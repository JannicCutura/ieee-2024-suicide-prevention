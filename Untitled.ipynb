{
 "cells": [
  {
   "cell_type": "code",
   "execution_count": 1,
   "id": "94e806f0-a657-40e6-b887-2dea88882126",
   "metadata": {},
   "outputs": [],
   "source": [
    "# IEEE Challenge"
   ]
  },
  {
   "cell_type": "code",
   "execution_count": 2,
   "id": "7cb5ef07-b079-4f1c-b446-18b6fc0ea328",
   "metadata": {},
   "outputs": [],
   "source": [
    "import pandas as pd\n",
    "from src import paths\n",
    "from src.read_data import DataReader\n",
    "from src.data_preprocessor import DataPreprocessor"
   ]
  },
  {
   "cell_type": "code",
   "execution_count": 3,
   "id": "0828838b-8bcc-4a46-96a5-6f593087e5df",
   "metadata": {},
   "outputs": [],
   "source": [
    "labelled = DataReader.get_posts_with_labels()"
   ]
  },
  {
   "cell_type": "code",
   "execution_count": 4,
   "id": "0eb8e115-f082-4e38-8bc8-c5a35dd682ef",
   "metadata": {},
   "outputs": [
    {
     "data": {
      "text/html": [
       "<div>\n",
       "<style scoped>\n",
       "    .dataframe tbody tr th:only-of-type {\n",
       "        vertical-align: middle;\n",
       "    }\n",
       "\n",
       "    .dataframe tbody tr th {\n",
       "        vertical-align: top;\n",
       "    }\n",
       "\n",
       "    .dataframe thead th {\n",
       "        text-align: right;\n",
       "    }\n",
       "</style>\n",
       "<table border=\"1\" class=\"dataframe\">\n",
       "  <thead>\n",
       "    <tr style=\"text-align: right;\">\n",
       "      <th></th>\n",
       "      <th>post</th>\n",
       "      <th>post_risk</th>\n",
       "    </tr>\n",
       "  </thead>\n",
       "  <tbody>\n",
       "    <tr>\n",
       "      <th>0</th>\n",
       "      <td>Just kill me. Please! Just end my life! I beg ...</td>\n",
       "      <td>ideation</td>\n",
       "    </tr>\n",
       "    <tr>\n",
       "      <th>1</th>\n",
       "      <td>There is no today, nor tommorrow. I dont have ...</td>\n",
       "      <td>behavior</td>\n",
       "    </tr>\n",
       "    <tr>\n",
       "      <th>2</th>\n",
       "      <td>Life so full of contradictions that it's not w...</td>\n",
       "      <td>indicator</td>\n",
       "    </tr>\n",
       "    <tr>\n",
       "      <th>3</th>\n",
       "      <td>I think I'm going to kill myself soon. I don't...</td>\n",
       "      <td>behavior</td>\n",
       "    </tr>\n",
       "    <tr>\n",
       "      <th>4</th>\n",
       "      <td>whats the point of living. no really. is there...</td>\n",
       "      <td>ideation</td>\n",
       "    </tr>\n",
       "  </tbody>\n",
       "</table>\n",
       "</div>"
      ],
      "text/plain": [
       "                                                post  post_risk\n",
       "0  Just kill me. Please! Just end my life! I beg ...   ideation\n",
       "1  There is no today, nor tommorrow. I dont have ...   behavior\n",
       "2  Life so full of contradictions that it's not w...  indicator\n",
       "3  I think I'm going to kill myself soon. I don't...   behavior\n",
       "4  whats the point of living. no really. is there...   ideation"
      ]
     },
     "execution_count": 4,
     "metadata": {},
     "output_type": "execute_result"
    }
   ],
   "source": [
    "labelled.head()"
   ]
  },
  {
   "cell_type": "code",
   "execution_count": 5,
   "id": "af3784fd-0805-4ece-be21-80813e4f38e8",
   "metadata": {},
   "outputs": [
    {
     "data": {
      "text/plain": [
       "post_risk\n",
       "ideation     190\n",
       "behavior     140\n",
       "indicator    129\n",
       "attempt       41\n",
       "Name: count, dtype: int64"
      ]
     },
     "execution_count": 5,
     "metadata": {},
     "output_type": "execute_result"
    }
   ],
   "source": [
    "labelled['post_risk'].value_counts()"
   ]
  },
  {
   "cell_type": "code",
   "execution_count": 7,
   "id": "89cbfd10-da66-45cf-95a5-99388fb2c727",
   "metadata": {},
   "outputs": [
    {
     "data": {
      "text/html": [
       "<div>\n",
       "<style scoped>\n",
       "    .dataframe tbody tr th:only-of-type {\n",
       "        vertical-align: middle;\n",
       "    }\n",
       "\n",
       "    .dataframe tbody tr th {\n",
       "        vertical-align: top;\n",
       "    }\n",
       "\n",
       "    .dataframe thead th {\n",
       "        text-align: right;\n",
       "    }\n",
       "</style>\n",
       "<table border=\"1\" class=\"dataframe\">\n",
       "  <thead>\n",
       "    <tr style=\"text-align: right;\">\n",
       "      <th></th>\n",
       "      <th>post</th>\n",
       "      <th>post_risk</th>\n",
       "      <th>word_count</th>\n",
       "    </tr>\n",
       "  </thead>\n",
       "  <tbody>\n",
       "    <tr>\n",
       "      <th>0</th>\n",
       "      <td>Just kill me. Please! Just end my life! I beg ...</td>\n",
       "      <td>ideation</td>\n",
       "      <td>14</td>\n",
       "    </tr>\n",
       "    <tr>\n",
       "      <th>1</th>\n",
       "      <td>There is no today, nor tommorrow. I dont have ...</td>\n",
       "      <td>behavior</td>\n",
       "      <td>282</td>\n",
       "    </tr>\n",
       "    <tr>\n",
       "      <th>2</th>\n",
       "      <td>Life so full of contradictions that it's not w...</td>\n",
       "      <td>indicator</td>\n",
       "      <td>311</td>\n",
       "    </tr>\n",
       "    <tr>\n",
       "      <th>3</th>\n",
       "      <td>I think I'm going to kill myself soon. I don't...</td>\n",
       "      <td>behavior</td>\n",
       "      <td>54</td>\n",
       "    </tr>\n",
       "    <tr>\n",
       "      <th>4</th>\n",
       "      <td>whats the point of living. no really. is there...</td>\n",
       "      <td>ideation</td>\n",
       "      <td>142</td>\n",
       "    </tr>\n",
       "  </tbody>\n",
       "</table>\n",
       "</div>"
      ],
      "text/plain": [
       "                                                post  post_risk  word_count\n",
       "0  Just kill me. Please! Just end my life! I beg ...   ideation          14\n",
       "1  There is no today, nor tommorrow. I dont have ...   behavior         282\n",
       "2  Life so full of contradictions that it's not w...  indicator         311\n",
       "3  I think I'm going to kill myself soon. I don't...   behavior          54\n",
       "4  whats the point of living. no really. is there...   ideation         142"
      ]
     },
     "execution_count": 7,
     "metadata": {},
     "output_type": "execute_result"
    }
   ],
   "source": [
    "labelled = DataPreprocessor.preprocess(labelled)\n",
    "labelled.head()"
   ]
  },
  {
   "cell_type": "code",
   "execution_count": 9,
   "id": "d5962255-618d-46dd-945a-259fa5636bc5",
   "metadata": {},
   "outputs": [
    {
     "data": {
      "text/html": [
       "<div>\n",
       "<style scoped>\n",
       "    .dataframe tbody tr th:only-of-type {\n",
       "        vertical-align: middle;\n",
       "    }\n",
       "\n",
       "    .dataframe tbody tr th {\n",
       "        vertical-align: top;\n",
       "    }\n",
       "\n",
       "    .dataframe thead th {\n",
       "        text-align: right;\n",
       "    }\n",
       "</style>\n",
       "<table border=\"1\" class=\"dataframe\">\n",
       "  <thead>\n",
       "    <tr style=\"text-align: right;\">\n",
       "      <th></th>\n",
       "      <th>count</th>\n",
       "      <th>mean</th>\n",
       "      <th>std</th>\n",
       "      <th>min</th>\n",
       "      <th>25%</th>\n",
       "      <th>50%</th>\n",
       "      <th>75%</th>\n",
       "      <th>max</th>\n",
       "    </tr>\n",
       "    <tr>\n",
       "      <th>post_risk</th>\n",
       "      <th></th>\n",
       "      <th></th>\n",
       "      <th></th>\n",
       "      <th></th>\n",
       "      <th></th>\n",
       "      <th></th>\n",
       "      <th></th>\n",
       "      <th></th>\n",
       "    </tr>\n",
       "  </thead>\n",
       "  <tbody>\n",
       "    <tr>\n",
       "      <th>attempt</th>\n",
       "      <td>41.0</td>\n",
       "      <td>338.439024</td>\n",
       "      <td>426.966805</td>\n",
       "      <td>11.0</td>\n",
       "      <td>55.0</td>\n",
       "      <td>179.0</td>\n",
       "      <td>447.00</td>\n",
       "      <td>2095.0</td>\n",
       "    </tr>\n",
       "    <tr>\n",
       "      <th>behavior</th>\n",
       "      <td>140.0</td>\n",
       "      <td>177.321429</td>\n",
       "      <td>186.431242</td>\n",
       "      <td>2.0</td>\n",
       "      <td>55.0</td>\n",
       "      <td>94.0</td>\n",
       "      <td>230.25</td>\n",
       "      <td>830.0</td>\n",
       "    </tr>\n",
       "    <tr>\n",
       "      <th>ideation</th>\n",
       "      <td>190.0</td>\n",
       "      <td>161.463158</td>\n",
       "      <td>170.503289</td>\n",
       "      <td>6.0</td>\n",
       "      <td>54.0</td>\n",
       "      <td>98.5</td>\n",
       "      <td>214.00</td>\n",
       "      <td>998.0</td>\n",
       "    </tr>\n",
       "    <tr>\n",
       "      <th>indicator</th>\n",
       "      <td>129.0</td>\n",
       "      <td>135.333333</td>\n",
       "      <td>144.534238</td>\n",
       "      <td>1.0</td>\n",
       "      <td>44.0</td>\n",
       "      <td>90.0</td>\n",
       "      <td>188.00</td>\n",
       "      <td>1120.0</td>\n",
       "    </tr>\n",
       "  </tbody>\n",
       "</table>\n",
       "</div>"
      ],
      "text/plain": [
       "           count        mean         std   min   25%    50%     75%     max\n",
       "post_risk                                                                  \n",
       "attempt     41.0  338.439024  426.966805  11.0  55.0  179.0  447.00  2095.0\n",
       "behavior   140.0  177.321429  186.431242   2.0  55.0   94.0  230.25   830.0\n",
       "ideation   190.0  161.463158  170.503289   6.0  54.0   98.5  214.00   998.0\n",
       "indicator  129.0  135.333333  144.534238   1.0  44.0   90.0  188.00  1120.0"
      ]
     },
     "execution_count": 9,
     "metadata": {},
     "output_type": "execute_result"
    }
   ],
   "source": [
    "labelled.groupby('post_risk')['word_count'].describe()"
   ]
  }
 ],
 "metadata": {
  "kernelspec": {
   "display_name": "Python 3 (ipykernel)",
   "language": "python",
   "name": "python3"
  },
  "language_info": {
   "codemirror_mode": {
    "name": "ipython",
    "version": 3
   },
   "file_extension": ".py",
   "mimetype": "text/x-python",
   "name": "python",
   "nbconvert_exporter": "python",
   "pygments_lexer": "ipython3",
   "version": "3.10.2"
  }
 },
 "nbformat": 4,
 "nbformat_minor": 5
}
