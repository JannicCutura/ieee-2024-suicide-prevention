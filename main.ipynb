{
 "cells": [
  {
   "cell_type": "markdown",
   "id": "fdcc4895-0a5e-470c-b1de-4dd6344a79a9",
   "metadata": {},
   "source": [
    "# IEEE Challenge"
   ]
  },
  {
   "cell_type": "code",
   "execution_count": 1,
   "id": "7cb5ef07-b079-4f1c-b446-18b6fc0ea328",
   "metadata": {},
   "outputs": [
    {
     "name": "stdout",
     "output_type": "stream",
     "text": [
      "16\n"
     ]
    }
   ],
   "source": [
    "import pandas as pd\n",
    "import numpy as np\n",
    "from src import paths\n",
    "from src.read_data import DataReader\n",
    "from src.data_preprocessor import DataPreprocessor\n",
    "from src.open_ai import PromptRefiner, client, Models\n",
    "from src.utils.util_functions import key_with_max_value, ordered_values, unpack, unpack_short"
   ]
  },
  {
   "cell_type": "code",
   "execution_count": 2,
   "id": "0828838b-8bcc-4a46-96a5-6f593087e5df",
   "metadata": {},
   "outputs": [
    {
     "data": {
      "text/html": [
       "<div>\n",
       "<style scoped>\n",
       "    .dataframe tbody tr th:only-of-type {\n",
       "        vertical-align: middle;\n",
       "    }\n",
       "\n",
       "    .dataframe tbody tr th {\n",
       "        vertical-align: top;\n",
       "    }\n",
       "\n",
       "    .dataframe thead th {\n",
       "        text-align: right;\n",
       "    }\n",
       "</style>\n",
       "<table border=\"1\" class=\"dataframe\">\n",
       "  <thead>\n",
       "    <tr style=\"text-align: right;\">\n",
       "      <th></th>\n",
       "      <th>post</th>\n",
       "      <th>post_risk</th>\n",
       "    </tr>\n",
       "  </thead>\n",
       "  <tbody>\n",
       "    <tr>\n",
       "      <th>0</th>\n",
       "      <td>Just kill me. Please! Just end my life! I beg ...</td>\n",
       "      <td>ideation</td>\n",
       "    </tr>\n",
       "    <tr>\n",
       "      <th>1</th>\n",
       "      <td>There is no today, nor tommorrow. I dont have ...</td>\n",
       "      <td>behavior</td>\n",
       "    </tr>\n",
       "    <tr>\n",
       "      <th>2</th>\n",
       "      <td>Life so full of contradictions that it's not w...</td>\n",
       "      <td>indicator</td>\n",
       "    </tr>\n",
       "    <tr>\n",
       "      <th>3</th>\n",
       "      <td>I think I'm going to kill myself soon. I don't...</td>\n",
       "      <td>behavior</td>\n",
       "    </tr>\n",
       "    <tr>\n",
       "      <th>4</th>\n",
       "      <td>whats the point of living. no really. is there...</td>\n",
       "      <td>ideation</td>\n",
       "    </tr>\n",
       "  </tbody>\n",
       "</table>\n",
       "</div>"
      ],
      "text/plain": [
       "                                                post  post_risk\n",
       "0  Just kill me. Please! Just end my life! I beg ...   ideation\n",
       "1  There is no today, nor tommorrow. I dont have ...   behavior\n",
       "2  Life so full of contradictions that it's not w...  indicator\n",
       "3  I think I'm going to kill myself soon. I don't...   behavior\n",
       "4  whats the point of living. no really. is there...   ideation"
      ]
     },
     "execution_count": 2,
     "metadata": {},
     "output_type": "execute_result"
    }
   ],
   "source": [
    "labelled = DataReader.get_posts_with_labels()\n",
    "labelled.head()"
   ]
  },
  {
   "cell_type": "code",
   "execution_count": 3,
   "id": "af3784fd-0805-4ece-be21-80813e4f38e8",
   "metadata": {},
   "outputs": [
    {
     "data": {
      "text/plain": [
       "post_risk\n",
       "ideation     190\n",
       "behavior     140\n",
       "indicator    129\n",
       "attempt       41\n",
       "Name: count, dtype: int64"
      ]
     },
     "execution_count": 3,
     "metadata": {},
     "output_type": "execute_result"
    }
   ],
   "source": [
    "labelled['post_risk'].value_counts()"
   ]
  },
  {
   "cell_type": "code",
   "execution_count": 4,
   "id": "89cbfd10-da66-45cf-95a5-99388fb2c727",
   "metadata": {},
   "outputs": [
    {
     "name": "stderr",
     "output_type": "stream",
     "text": [
      "2024-08-12 18:09:27,989 - INFO: Preprocesssing data\n",
      "2024-08-12 18:09:27,991 - INFO: Removing HTML, non ASCI etc\n",
      "2024-08-12 18:09:28,220 - INFO: Counting words\n",
      "2024-08-12 18:09:28,342 - INFO: Replacing cateogries with one token labels: {'ideation': 'id', 'behavior': 'be', 'indicator': 'in', 'attempt': 'at'}\n"
     ]
    },
    {
     "data": {
      "text/html": [
       "<div>\n",
       "<style scoped>\n",
       "    .dataframe tbody tr th:only-of-type {\n",
       "        vertical-align: middle;\n",
       "    }\n",
       "\n",
       "    .dataframe tbody tr th {\n",
       "        vertical-align: top;\n",
       "    }\n",
       "\n",
       "    .dataframe thead th {\n",
       "        text-align: right;\n",
       "    }\n",
       "</style>\n",
       "<table border=\"1\" class=\"dataframe\">\n",
       "  <thead>\n",
       "    <tr style=\"text-align: right;\">\n",
       "      <th></th>\n",
       "      <th>post</th>\n",
       "      <th>post_risk</th>\n",
       "      <th>word_count</th>\n",
       "    </tr>\n",
       "  </thead>\n",
       "  <tbody>\n",
       "    <tr>\n",
       "      <th>0</th>\n",
       "      <td>Just kill me. Please! Just end my life! I beg ...</td>\n",
       "      <td>id</td>\n",
       "      <td>14</td>\n",
       "    </tr>\n",
       "    <tr>\n",
       "      <th>1</th>\n",
       "      <td>There is no today, nor tommorrow. I dont have ...</td>\n",
       "      <td>be</td>\n",
       "      <td>282</td>\n",
       "    </tr>\n",
       "    <tr>\n",
       "      <th>2</th>\n",
       "      <td>Life so full of contradictions that it's not w...</td>\n",
       "      <td>in</td>\n",
       "      <td>311</td>\n",
       "    </tr>\n",
       "    <tr>\n",
       "      <th>3</th>\n",
       "      <td>I think I'm going to kill myself soon. I don't...</td>\n",
       "      <td>be</td>\n",
       "      <td>54</td>\n",
       "    </tr>\n",
       "    <tr>\n",
       "      <th>4</th>\n",
       "      <td>whats the point of living. no really. is there...</td>\n",
       "      <td>id</td>\n",
       "      <td>142</td>\n",
       "    </tr>\n",
       "  </tbody>\n",
       "</table>\n",
       "</div>"
      ],
      "text/plain": [
       "                                                post post_risk  word_count\n",
       "0  Just kill me. Please! Just end my life! I beg ...        id          14\n",
       "1  There is no today, nor tommorrow. I dont have ...        be         282\n",
       "2  Life so full of contradictions that it's not w...        in         311\n",
       "3  I think I'm going to kill myself soon. I don't...        be          54\n",
       "4  whats the point of living. no really. is there...        id         142"
      ]
     },
     "execution_count": 4,
     "metadata": {},
     "output_type": "execute_result"
    }
   ],
   "source": [
    "labelled = DataPreprocessor.preprocess(labelled)\n",
    "labelled.head()"
   ]
  },
  {
   "cell_type": "code",
   "execution_count": 5,
   "id": "d2a75884-f1bd-4bb0-a688-a6d39539bc25",
   "metadata": {},
   "outputs": [
    {
     "data": {
      "text/html": [
       "<div>\n",
       "<style scoped>\n",
       "    .dataframe tbody tr th:only-of-type {\n",
       "        vertical-align: middle;\n",
       "    }\n",
       "\n",
       "    .dataframe tbody tr th {\n",
       "        vertical-align: top;\n",
       "    }\n",
       "\n",
       "    .dataframe thead th {\n",
       "        text-align: right;\n",
       "    }\n",
       "</style>\n",
       "<table border=\"1\" class=\"dataframe\">\n",
       "  <thead>\n",
       "    <tr style=\"text-align: right;\">\n",
       "      <th></th>\n",
       "      <th>count</th>\n",
       "      <th>mean</th>\n",
       "      <th>std</th>\n",
       "      <th>min</th>\n",
       "      <th>25%</th>\n",
       "      <th>50%</th>\n",
       "      <th>75%</th>\n",
       "      <th>max</th>\n",
       "    </tr>\n",
       "    <tr>\n",
       "      <th>post_risk</th>\n",
       "      <th></th>\n",
       "      <th></th>\n",
       "      <th></th>\n",
       "      <th></th>\n",
       "      <th></th>\n",
       "      <th></th>\n",
       "      <th></th>\n",
       "      <th></th>\n",
       "    </tr>\n",
       "  </thead>\n",
       "  <tbody>\n",
       "    <tr>\n",
       "      <th>at</th>\n",
       "      <td>41.0</td>\n",
       "      <td>338.341463</td>\n",
       "      <td>427.035046</td>\n",
       "      <td>11.0</td>\n",
       "      <td>55.0</td>\n",
       "      <td>179.0</td>\n",
       "      <td>447.00</td>\n",
       "      <td>2095.0</td>\n",
       "    </tr>\n",
       "    <tr>\n",
       "      <th>be</th>\n",
       "      <td>140.0</td>\n",
       "      <td>177.314286</td>\n",
       "      <td>186.416841</td>\n",
       "      <td>2.0</td>\n",
       "      <td>55.0</td>\n",
       "      <td>94.0</td>\n",
       "      <td>230.25</td>\n",
       "      <td>830.0</td>\n",
       "    </tr>\n",
       "    <tr>\n",
       "      <th>id</th>\n",
       "      <td>190.0</td>\n",
       "      <td>161.473684</td>\n",
       "      <td>170.525415</td>\n",
       "      <td>6.0</td>\n",
       "      <td>54.0</td>\n",
       "      <td>98.5</td>\n",
       "      <td>214.00</td>\n",
       "      <td>998.0</td>\n",
       "    </tr>\n",
       "    <tr>\n",
       "      <th>in</th>\n",
       "      <td>129.0</td>\n",
       "      <td>135.333333</td>\n",
       "      <td>144.509047</td>\n",
       "      <td>1.0</td>\n",
       "      <td>44.0</td>\n",
       "      <td>90.0</td>\n",
       "      <td>188.00</td>\n",
       "      <td>1120.0</td>\n",
       "    </tr>\n",
       "  </tbody>\n",
       "</table>\n",
       "</div>"
      ],
      "text/plain": [
       "           count        mean         std   min   25%    50%     75%     max\n",
       "post_risk                                                                  \n",
       "at          41.0  338.341463  427.035046  11.0  55.0  179.0  447.00  2095.0\n",
       "be         140.0  177.314286  186.416841   2.0  55.0   94.0  230.25   830.0\n",
       "id         190.0  161.473684  170.525415   6.0  54.0   98.5  214.00   998.0\n",
       "in         129.0  135.333333  144.509047   1.0  44.0   90.0  188.00  1120.0"
      ]
     },
     "execution_count": 5,
     "metadata": {},
     "output_type": "execute_result"
    }
   ],
   "source": [
    "labelled.groupby('post_risk')['word_count'].describe()"
   ]
  },
  {
   "cell_type": "code",
   "execution_count": 6,
   "id": "ed70df8d-ad7c-45de-8894-99941ffdcd8d",
   "metadata": {},
   "outputs": [],
   "source": [
    "labelled['post'] = labelled['post'] + \" ->\""
   ]
  },
  {
   "cell_type": "code",
   "execution_count": 7,
   "id": "056257eb-deb8-46f9-8b91-7a4f7979712b",
   "metadata": {},
   "outputs": [
    {
     "data": {
      "text/html": [
       "<div>\n",
       "<style scoped>\n",
       "    .dataframe tbody tr th:only-of-type {\n",
       "        vertical-align: middle;\n",
       "    }\n",
       "\n",
       "    .dataframe tbody tr th {\n",
       "        vertical-align: top;\n",
       "    }\n",
       "\n",
       "    .dataframe thead th {\n",
       "        text-align: right;\n",
       "    }\n",
       "</style>\n",
       "<table border=\"1\" class=\"dataframe\">\n",
       "  <thead>\n",
       "    <tr style=\"text-align: right;\">\n",
       "      <th></th>\n",
       "      <th>post</th>\n",
       "      <th>post_risk</th>\n",
       "      <th>word_count</th>\n",
       "    </tr>\n",
       "  </thead>\n",
       "  <tbody>\n",
       "    <tr>\n",
       "      <th>50</th>\n",
       "      <td>I feel so shattered. I don't even know any mor...</td>\n",
       "      <td>in</td>\n",
       "      <td>92</td>\n",
       "    </tr>\n",
       "  </tbody>\n",
       "</table>\n",
       "</div>"
      ],
      "text/plain": [
       "                                                 post post_risk  word_count\n",
       "50  I feel so shattered. I don't even know any mor...        in          92"
      ]
     },
     "execution_count": 7,
     "metadata": {},
     "output_type": "execute_result"
    }
   ],
   "source": [
    "from sklearn.model_selection import train_test_split\n",
    "df_train_labelled, df_test = train_test_split(labelled, test_size=0.1, random_state=42, stratify=labelled[\"post_risk\"])\n",
    "df_test.head(1)"
   ]
  },
  {
   "cell_type": "code",
   "execution_count": 8,
   "id": "894ad4d3-7233-476c-9059-7fe4f80b7a77",
   "metadata": {},
   "outputs": [],
   "source": [
    "file_name = \"data_api\"\n",
    "train_file = f\"{file_name}_prepared_train\"\n",
    "validation_file = f\"{file_name}_prepared_valid\"\n",
    "\n",
    "import os\n",
    "for file in [file_name, train_file, validation_file]:\n",
    "    if os.path.exists(file):\n",
    "        os.remove(file)"
   ]
  },
  {
   "cell_type": "code",
   "execution_count": 13,
   "id": "f13b3061-53f3-4d8d-87a9-706f0e379eb7",
   "metadata": {},
   "outputs": [],
   "source": [
    "DataPreprocessor.to_json(df_train_labelled, \"data_api_prepared_train_raw.jsonl\")\n",
    "DataPreprocessor.to_json(df_test, \"data_api_prepared_valid_raw.jsonl\")"
   ]
  },
  {
   "cell_type": "markdown",
   "id": "224c5b38-d091-4c71-9a17-ca5695b1b0b7",
   "metadata": {},
   "source": [
    "#### OpenAI API tools\n",
    "Next we use openAI API tools to prepare the data further"
   ]
  },
  {
   "cell_type": "code",
   "execution_count": null,
   "id": "fbc6d143-5ad8-4e0f-9341-d6097d4b321a",
   "metadata": {},
   "outputs": [],
   "source": [
    "!openai tools fine_tunes.prepare_data -f data_api_prepared_train_raw.jsonl"
   ]
  },
  {
   "cell_type": "markdown",
   "id": "a44d60ef-b6a3-461b-85f7-c1dc8b017a2c",
   "metadata": {},
   "source": [
    "Next we submit a fine tuning job using the API and the preprocessed data. We have a range of models available:"
   ]
  },
  {
   "cell_type": "code",
   "execution_count": 14,
   "id": "854863be-61d3-453c-90a7-91409702cc4b",
   "metadata": {},
   "outputs": [
    {
     "name": "stdout",
     "output_type": "stream",
     "text": [
      "gpt-3.5-turbo-0125\n",
      "gpt-3.5-turbo-1106\n",
      "gpt-3.5-turbo-0613\n",
      "babbage-002\n",
      "davinci-002\n",
      "gpt-4-0613\n"
     ]
    }
   ],
   "source": [
    "for model in Models:\n",
    "    print(model.value)"
   ]
  },
  {
   "cell_type": "code",
   "execution_count": 15,
   "id": "4e80fa0e-ae60-4126-bf9a-d8735e61a6b6",
   "metadata": {},
   "outputs": [],
   "source": [
    "from src.open_ai import client\n",
    "train_file = client.files.create(file=open(\"data_api_prepared_train_raw_prepared.jsonl\", \"rb\"), purpose=\"fine-tune\")\n",
    "valid_file = client.files.create(file=open(\"data_api_prepared_valid_raw_prepared.jsonl\", \"rb\"), purpose=\"fine-tune\")"
   ]
  },
  {
   "cell_type": "code",
   "execution_count": 34,
   "id": "0bc3c8b6-7bbe-4064-b43b-cb6976eebb54",
   "metadata": {},
   "outputs": [
    {
     "name": "stdout",
     "output_type": "stream",
     "text": [
      "FineTuningJob(id='ftjob-oDuYIWahFMoIKFhi2N4IQiGa', created_at=1723480757, error=Error(code=None, message=None, param=None), fine_tuned_model=None, finished_at=None, hyperparameters=Hyperparameters(n_epochs=5, batch_size='auto', learning_rate_multiplier='auto'), model='gpt-4o-mini-2024-07-18', object='fine_tuning.job', organization_id='org-FM8nE4u0PEcj6crKCzO0dFT7', result_files=[], seed=644290663, status='validating_files', trained_tokens=None, training_file='file-nnCXuoGxX5KimfVHeLMQqLED', validation_file='file-PLUwcJPtLZQbOO0cDXrGFC4W', estimated_finish=None, integrations=[], user_provided_suffix=None)\n"
     ]
    }
   ],
   "source": [
    "fine_tuning_job = client.fine_tuning.jobs.create(\n",
    "    training_file=train_file.id,\n",
    "    validation_file=valid_file.id,  \n",
    "    model=\"gpt-4o-mini-2024-07-18\", \n",
    "    hyperparameters={\n",
    "    \"n_epochs\":5\n",
    "  })\n",
    "print(fine_tuning_job)"
   ]
  },
  {
   "cell_type": "code",
   "execution_count": null,
   "id": "8564178e-5797-4331-a9dd-86724f2f4f46",
   "metadata": {},
   "outputs": [],
   "source": []
  },
  {
   "cell_type": "code",
   "execution_count": null,
   "id": "2982756d-6237-44bc-8a80-6372dbd26ad3",
   "metadata": {},
   "outputs": [],
   "source": []
  },
  {
   "cell_type": "code",
   "execution_count": null,
   "id": "dbc31bb0-66b0-41ad-9302-3f8eb6290398",
   "metadata": {},
   "outputs": [],
   "source": []
  },
  {
   "cell_type": "code",
   "execution_count": null,
   "id": "698c23a4-9fb3-4707-afb2-848bd8a0377d",
   "metadata": {},
   "outputs": [],
   "source": []
  },
  {
   "cell_type": "markdown",
   "id": "4caacb76-87dc-4c99-b62e-c7b1b6de573d",
   "metadata": {},
   "source": [
    "Job tuning will take some time. You can view the progress at: https://platform.openai.com/finetune/"
   ]
  },
  {
   "cell_type": "code",
   "execution_count": 41,
   "id": "8bed038f-d73c-4dc6-9b87-ca8e62836f2a",
   "metadata": {},
   "outputs": [],
   "source": [
    "still_running = True\n",
    "fine_tuning_job_id = fine_tuning_job.id\n",
    "fine_tuning_job_id =\"ftjob-hLINDFyTJCcf5ReM23qIRxnM\"\n",
    "import time\n",
    "while still_running:\n",
    "    fine_tune_results = client.fine_tuning.jobs.retrieve(fine_tuning_job_id)\n",
    "    \n",
    "    if fine_tune_results.finished_at:\n",
    "        still_running=False\n",
    "    else:\n",
    "        print(\"still running\")\n",
    "        time.sleep(10)"
   ]
  },
  {
   "cell_type": "code",
   "execution_count": 43,
   "id": "20613d43-53d9-4ed8-af12-0009f38d1cd6",
   "metadata": {},
   "outputs": [
    {
     "data": {
      "text/plain": [
       "FineTuningJob(id='ftjob-hLINDFyTJCcf5ReM23qIRxnM', created_at=1718546568, error=Error(code=None, message=None, param=None), fine_tuned_model='ft:davinci-002:personal::9al1pZiD', finished_at=1718547612, hyperparameters=Hyperparameters(n_epochs=3, batch_size=7, learning_rate_multiplier=16), model='davinci-002', object='fine_tuning.job', organization_id='org-FM8nE4u0PEcj6crKCzO0dFT7', result_files=['file-fdergvs0CfQgt8R1YaaWiatR'], seed=1281101839, status='succeeded', trained_tokens=2298876, training_file='file-tiCcKPKu2BDf3kvEgDDNviTT', validation_file='file-5ia7XcEPhdlZqk0K3VCqNufi', estimated_finish=None, integrations=[], user_provided_suffix=None)"
      ]
     },
     "execution_count": 43,
     "metadata": {},
     "output_type": "execute_result"
    }
   ],
   "source": [
    "fine_tune_results"
   ]
  },
  {
   "cell_type": "code",
   "execution_count": null,
   "id": "ad0c4e5d-3928-47f7-9367-ae953bb5380b",
   "metadata": {},
   "outputs": [],
   "source": []
  },
  {
   "cell_type": "code",
   "execution_count": 19,
   "id": "6e50978f-f991-4ad1-824c-3f4c54eecf59",
   "metadata": {},
   "outputs": [
    {
     "name": "stderr",
     "output_type": "stream",
     "text": [
      "2024-08-12 18:14:47,774 - INFO: Preprocesssing data\n",
      "2024-08-12 18:14:47,775 - INFO: Removing HTML, non ASCI etc\n",
      "2024-08-12 18:14:47,792 - INFO: Counting words\n"
     ]
    },
    {
     "data": {
      "text/html": [
       "<div>\n",
       "<style scoped>\n",
       "    .dataframe tbody tr th:only-of-type {\n",
       "        vertical-align: middle;\n",
       "    }\n",
       "\n",
       "    .dataframe tbody tr th {\n",
       "        vertical-align: top;\n",
       "    }\n",
       "\n",
       "    .dataframe thead th {\n",
       "        text-align: right;\n",
       "    }\n",
       "</style>\n",
       "<table border=\"1\" class=\"dataframe\">\n",
       "  <thead>\n",
       "    <tr style=\"text-align: right;\">\n",
       "      <th></th>\n",
       "      <th>post</th>\n",
       "      <th>word_count</th>\n",
       "    </tr>\n",
       "  </thead>\n",
       "  <tbody>\n",
       "    <tr>\n",
       "      <th>0</th>\n",
       "      <td>My mind is hell. After my breakup 6 months ago...</td>\n",
       "      <td>307</td>\n",
       "    </tr>\n",
       "    <tr>\n",
       "      <th>1</th>\n",
       "      <td>What's the point?. It's been 548 days since my...</td>\n",
       "      <td>482</td>\n",
       "    </tr>\n",
       "    <tr>\n",
       "      <th>2</th>\n",
       "      <td>I'm scared therapy wont work. My parents reali...</td>\n",
       "      <td>115</td>\n",
       "    </tr>\n",
       "    <tr>\n",
       "      <th>3</th>\n",
       "      <td>so bye. love you bitches. only a few hours lef...</td>\n",
       "      <td>98</td>\n",
       "    </tr>\n",
       "    <tr>\n",
       "      <th>4</th>\n",
       "      <td>Relapsed after 6 months. I don't think I'll ev...</td>\n",
       "      <td>47</td>\n",
       "    </tr>\n",
       "  </tbody>\n",
       "</table>\n",
       "</div>"
      ],
      "text/plain": [
       "                                                post  word_count\n",
       "0  My mind is hell. After my breakup 6 months ago...         307\n",
       "1  What's the point?. It's been 548 days since my...         482\n",
       "2  I'm scared therapy wont work. My parents reali...         115\n",
       "3  so bye. love you bitches. only a few hours lef...          98\n",
       "4  Relapsed after 6 months. I don't think I'll ev...          47"
      ]
     },
     "execution_count": 19,
     "metadata": {},
     "output_type": "execute_result"
    }
   ],
   "source": []
  },
  {
   "cell_type": "code",
   "execution_count": 18,
   "id": "f403ac5b-50ff-40bb-b86c-1d895f03b5dd",
   "metadata": {},
   "outputs": [
    {
     "data": {
      "text/plain": [
       "'ftjob-x0MXI2OzXhUNCWOKT2XMIE0f'"
      ]
     },
     "execution_count": 18,
     "metadata": {},
     "output_type": "execute_result"
    }
   ],
   "source": [
    "fine_tuning_job.id"
   ]
  },
  {
   "cell_type": "code",
   "execution_count": 22,
   "id": "480cfd3f-9632-4497-ba4e-c5f94b8581bb",
   "metadata": {},
   "outputs": [
    {
     "name": "stdout",
     "output_type": "stream",
     "text": [
      "FineTuningJob(id='ftjob-x0MXI2OzXhUNCWOKT2XMIE0f', created_at=1723479245, error=Error(code=None, message=None, param=None), fine_tuned_model='ft:davinci-002:personal::9vS9e5Ow', finished_at=1723479948, hyperparameters=Hyperparameters(n_epochs=3, batch_size=1, learning_rate_multiplier=16), model='davinci-002', object='fine_tuning.job', organization_id='org-FM8nE4u0PEcj6crKCzO0dFT7', result_files=['file-YKeZ3Y6qVUroHs9DBQGfzJWo'], seed=305615375, status='succeeded', trained_tokens=268383, training_file='file-nnCXuoGxX5KimfVHeLMQqLED', validation_file='file-PLUwcJPtLZQbOO0cDXrGFC4W', estimated_finish=None, integrations=[], user_provided_suffix=None)\n"
     ]
    }
   ],
   "source": [
    "# last job id 'ftjob-26SCSYKJlwPoNupKn5QvasUA'.\n",
    "fine_tune_results = client.fine_tuning.jobs.retrieve(fine_tuning_job.id)\n",
    "print(fine_tune_results)"
   ]
  },
  {
   "cell_type": "code",
   "execution_count": 23,
   "id": "d037bb26-375e-4028-bd1e-2d6c25533220",
   "metadata": {},
   "outputs": [],
   "source": [
    "ft_model = fine_tune_results.fine_tuned_model"
   ]
  },
  {
   "cell_type": "code",
   "execution_count": null,
   "id": "1af8c79f-16fb-4d75-b4c3-1475024c9787",
   "metadata": {},
   "outputs": [],
   "source": [
    "from copy import deepcopy\n",
    "result = deepcopy(res)"
   ]
  },
  {
   "cell_type": "code",
   "execution_count": null,
   "id": "e3c15383-2be8-4a52-a368-dad8ffac53ca",
   "metadata": {},
   "outputs": [],
   "source": [
    "test = DataReader.get_test_set()\n",
    "test = DataPreprocessor.preprocess(test)\n",
    "test.head()\n",
    "result = [client.completions.create(model=ft_model, prompt=ex + ' ->', max_tokens=1, temperature=0,logprobs=10) for ex in test['post']]"
   ]
  },
  {
   "cell_type": "code",
   "execution_count": null,
   "id": "dedca47f-f553-4706-b777-0d7a320cba53",
   "metadata": {},
   "outputs": [],
   "source": [
    "[res.choices[0].logprobs.top_logprobs[0] for res in result]"
   ]
  },
  {
   "cell_type": "code",
   "execution_count": null,
   "id": "7efe1921-251d-43f6-aa6b-975d84854786",
   "metadata": {},
   "outputs": [],
   "source": []
  },
  {
   "cell_type": "code",
   "execution_count": null,
   "id": "5a45587e-9734-45b3-bfc0-43e56fc2dcd0",
   "metadata": {},
   "outputs": [],
   "source": [
    "probs = [unpack_short(res) for res in result]"
   ]
  },
  {
   "cell_type": "code",
   "execution_count": null,
   "id": "a240a5ac-b4b4-4237-a763-ea8ba38db4e9",
   "metadata": {},
   "outputs": [],
   "source": [
    "probs[:2]"
   ]
  },
  {
   "cell_type": "code",
   "execution_count": null,
   "id": "4ac04376-054a-43c1-aeca-c0bdbe088c8c",
   "metadata": {},
   "outputs": [],
   "source": [
    "test['suicide risk'] = [key_with_max_value(elem) for elem in probs]\n",
    "test['probability distribution'] = [ordered_values(elem) for elem in probs]\n",
    "test"
   ]
  },
  {
   "cell_type": "code",
   "execution_count": null,
   "id": "3d920117-ee92-4fd5-8511-566bcf6da711",
   "metadata": {},
   "outputs": [],
   "source": [
    "test[['suicide risk', 'probability distribution']].to_excel(\"Calculators.xlsx\", index=True, index_label=\"index\")"
   ]
  },
  {
   "cell_type": "code",
   "execution_count": null,
   "id": "3b203615-4338-4708-818b-b025bdc6cc02",
   "metadata": {},
   "outputs": [],
   "source": [
    "test['suicide risk'].value_counts()"
   ]
  },
  {
   "cell_type": "markdown",
   "id": "b81d608e-6d0d-4f5a-a5b2-3a67ee3d4820",
   "metadata": {},
   "source": [
    "Evaluation"
   ]
  },
  {
   "cell_type": "code",
   "execution_count": 24,
   "id": "a6febdac-9ce3-47f1-b772-d11f68b5dadf",
   "metadata": {},
   "outputs": [],
   "source": [
    "result = [client.completions.create(model=ft_model, prompt=ex + ' ->', max_tokens=1, temperature=0,logprobs=10) for ex in df_test['post']]"
   ]
  },
  {
   "cell_type": "code",
   "execution_count": 26,
   "id": "00416e72-723d-4429-9ccf-451b9e18c30c",
   "metadata": {},
   "outputs": [
    {
     "data": {
      "text/plain": [
       "{'ideation': 0.1368371508786148,\n",
       " 'behavior': 0.5912782028623174,\n",
       " 'indicator': 0.21626232514324442,\n",
       " 'attempt': 0.05166186761519605}"
      ]
     },
     "execution_count": 26,
     "metadata": {},
     "output_type": "execute_result"
    }
   ],
   "source": [
    "probs = [unpack_short(res) for res in result]\n",
    "probs[0]"
   ]
  },
  {
   "cell_type": "code",
   "execution_count": 27,
   "id": "1baaaf7a-5dc9-4019-a18b-aa0dfe43ccc3",
   "metadata": {},
   "outputs": [
    {
     "data": {
      "text/html": [
       "<div>\n",
       "<style scoped>\n",
       "    .dataframe tbody tr th:only-of-type {\n",
       "        vertical-align: middle;\n",
       "    }\n",
       "\n",
       "    .dataframe tbody tr th {\n",
       "        vertical-align: top;\n",
       "    }\n",
       "\n",
       "    .dataframe thead th {\n",
       "        text-align: right;\n",
       "    }\n",
       "</style>\n",
       "<table border=\"1\" class=\"dataframe\">\n",
       "  <thead>\n",
       "    <tr style=\"text-align: right;\">\n",
       "      <th></th>\n",
       "      <th>post</th>\n",
       "      <th>post_risk</th>\n",
       "      <th>word_count</th>\n",
       "      <th>suicide risk</th>\n",
       "      <th>probability distribution</th>\n",
       "    </tr>\n",
       "  </thead>\n",
       "  <tbody>\n",
       "    <tr>\n",
       "      <th>50</th>\n",
       "      <td>I feel so shattered. I don't even know any mor...</td>\n",
       "      <td>in</td>\n",
       "      <td>92</td>\n",
       "      <td>behavior</td>\n",
       "      <td>[0.21626, 0.13684, 0.59128, 0.05166]</td>\n",
       "    </tr>\n",
       "  </tbody>\n",
       "</table>\n",
       "</div>"
      ],
      "text/plain": [
       "                                                 post post_risk  word_count  \\\n",
       "50  I feel so shattered. I don't even know any mor...        in          92   \n",
       "\n",
       "   suicide risk              probability distribution  \n",
       "50     behavior  [0.21626, 0.13684, 0.59128, 0.05166]  "
      ]
     },
     "execution_count": 27,
     "metadata": {},
     "output_type": "execute_result"
    }
   ],
   "source": [
    "df_test['suicide risk'] = [key_with_max_value(elem) for elem in probs]\n",
    "df_test['probability distribution'] = [ordered_values(elem) for elem in probs]\n",
    "df_test.head(1)"
   ]
  },
  {
   "cell_type": "code",
   "execution_count": 30,
   "id": "99c36b7f-5984-4478-9d61-fee005465630",
   "metadata": {},
   "outputs": [
    {
     "data": {
      "text/html": [
       "<div>\n",
       "<style scoped>\n",
       "    .dataframe tbody tr th:only-of-type {\n",
       "        vertical-align: middle;\n",
       "    }\n",
       "\n",
       "    .dataframe tbody tr th {\n",
       "        vertical-align: top;\n",
       "    }\n",
       "\n",
       "    .dataframe thead th {\n",
       "        text-align: right;\n",
       "    }\n",
       "</style>\n",
       "<table border=\"1\" class=\"dataframe\">\n",
       "  <thead>\n",
       "    <tr style=\"text-align: right;\">\n",
       "      <th></th>\n",
       "      <th>post</th>\n",
       "      <th>post_risk</th>\n",
       "      <th>word_count</th>\n",
       "      <th>suicide risk</th>\n",
       "      <th>probability distribution</th>\n",
       "      <th>pred</th>\n",
       "    </tr>\n",
       "  </thead>\n",
       "  <tbody>\n",
       "    <tr>\n",
       "      <th>50</th>\n",
       "      <td>I feel so shattered. I don't even know any mor...</td>\n",
       "      <td>in</td>\n",
       "      <td>92</td>\n",
       "      <td>behavior</td>\n",
       "      <td>[0.21626, 0.13684, 0.59128, 0.05166]</td>\n",
       "      <td>be</td>\n",
       "    </tr>\n",
       "  </tbody>\n",
       "</table>\n",
       "</div>"
      ],
      "text/plain": [
       "                                                 post post_risk  word_count  \\\n",
       "50  I feel so shattered. I don't even know any mor...        in          92   \n",
       "\n",
       "   suicide risk              probability distribution pred  \n",
       "50     behavior  [0.21626, 0.13684, 0.59128, 0.05166]   be  "
      ]
     },
     "execution_count": 30,
     "metadata": {},
     "output_type": "execute_result"
    }
   ],
   "source": [
    "mapping = {'ideation':'id', 'behavior': 'be', 'indicator': 'in', 'attempt': 'at'}\n",
    "df_test['pred'] = df_test['suicide risk'].map(mapping)\n",
    "df_test.head(1)                                              "
   ]
  },
  {
   "cell_type": "code",
   "execution_count": 32,
   "id": "d14b73e1-7189-4713-810f-173f1d3cdbbc",
   "metadata": {},
   "outputs": [
    {
     "name": "stdout",
     "output_type": "stream",
     "text": [
      "              precision    recall  f1-score   support\n",
      "\n",
      "          id       0.50      0.26      0.34        19\n",
      "          be       0.13      0.14      0.14        14\n",
      "          in       0.24      0.46      0.32        13\n",
      "          at       0.00      0.00      0.00         4\n",
      "\n",
      "    accuracy                           0.26        50\n",
      "   macro avg       0.22      0.22      0.20        50\n",
      "weighted avg       0.29      0.26      0.25        50\n",
      "\n"
     ]
    },
    {
     "name": "stderr",
     "output_type": "stream",
     "text": [
      "C:\\Users\\janni\\Dropbox\\projects\\2024_05 IEEE Suicide prevention\\ieee-2024-suicide-prevention\\venv\\lib\\site-packages\\sklearn\\metrics\\_classification.py:1517: UndefinedMetricWarning: Precision is ill-defined and being set to 0.0 in labels with no predicted samples. Use `zero_division` parameter to control this behavior.\n",
      "  _warn_prf(average, modifier, f\"{metric.capitalize()} is\", len(result))\n",
      "C:\\Users\\janni\\Dropbox\\projects\\2024_05 IEEE Suicide prevention\\ieee-2024-suicide-prevention\\venv\\lib\\site-packages\\sklearn\\metrics\\_classification.py:1517: UndefinedMetricWarning: Precision is ill-defined and being set to 0.0 in labels with no predicted samples. Use `zero_division` parameter to control this behavior.\n",
      "  _warn_prf(average, modifier, f\"{metric.capitalize()} is\", len(result))\n",
      "C:\\Users\\janni\\Dropbox\\projects\\2024_05 IEEE Suicide prevention\\ieee-2024-suicide-prevention\\venv\\lib\\site-packages\\sklearn\\metrics\\_classification.py:1517: UndefinedMetricWarning: Precision is ill-defined and being set to 0.0 in labels with no predicted samples. Use `zero_division` parameter to control this behavior.\n",
      "  _warn_prf(average, modifier, f\"{metric.capitalize()} is\", len(result))\n"
     ]
    }
   ],
   "source": [
    "from sklearn.metrics import classification_report,confusion_matrix\n",
    "print(classification_report(df_test[\"post_risk\"],df_test[\"pred\"], labels= list(mapping.values())))"
   ]
  }
 ],
 "metadata": {
  "kernelspec": {
   "display_name": "Python 3 (ipykernel)",
   "language": "python",
   "name": "python3"
  },
  "language_info": {
   "codemirror_mode": {
    "name": "ipython",
    "version": 3
   },
   "file_extension": ".py",
   "mimetype": "text/x-python",
   "name": "python",
   "nbconvert_exporter": "python",
   "pygments_lexer": "ipython3",
   "version": "3.10.2"
  }
 },
 "nbformat": 4,
 "nbformat_minor": 5
}
