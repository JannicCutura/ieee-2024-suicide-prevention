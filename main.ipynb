{
 "cells": [
  {
   "cell_type": "code",
   "execution_count": null,
   "id": "c15c41f4-ea1d-4daa-bcfb-387a5520e0b6",
   "metadata": {},
   "outputs": [],
   "source": []
  },
  {
   "cell_type": "markdown",
   "id": "fdcc4895-0a5e-470c-b1de-4dd6344a79a9",
   "metadata": {},
   "source": [
    "# IEEE Challenge"
   ]
  },
  {
   "cell_type": "code",
   "execution_count": 102,
   "id": "7cb5ef07-b079-4f1c-b446-18b6fc0ea328",
   "metadata": {},
   "outputs": [
    {
     "ename": "ImportError",
     "evalue": "cannot import name 'ordered_values' from 'src.utils.util_functions' (C:\\Users\\janni\\Dropbox\\projects\\2024_05 IEEE Suicide prevention\\ieee-2024-suicide-prevention\\src\\utils\\util_functions.py)",
     "output_type": "error",
     "traceback": [
      "\u001b[1;31m---------------------------------------------------------------------------\u001b[0m",
      "\u001b[1;31mImportError\u001b[0m                               Traceback (most recent call last)",
      "Cell \u001b[1;32mIn[102], line 6\u001b[0m\n\u001b[0;32m      4\u001b[0m \u001b[38;5;28;01mfrom\u001b[39;00m \u001b[38;5;21;01msrc\u001b[39;00m\u001b[38;5;21;01m.\u001b[39;00m\u001b[38;5;21;01mread_data\u001b[39;00m \u001b[38;5;28;01mimport\u001b[39;00m DataReader\n\u001b[0;32m      5\u001b[0m \u001b[38;5;28;01mfrom\u001b[39;00m \u001b[38;5;21;01msrc\u001b[39;00m\u001b[38;5;21;01m.\u001b[39;00m\u001b[38;5;21;01mdata_preprocessor\u001b[39;00m \u001b[38;5;28;01mimport\u001b[39;00m DataPreprocessor\n\u001b[1;32m----> 6\u001b[0m \u001b[38;5;28;01mfrom\u001b[39;00m \u001b[38;5;21;01msrc\u001b[39;00m\u001b[38;5;21;01m.\u001b[39;00m\u001b[38;5;21;01mutils\u001b[39;00m\u001b[38;5;21;01m.\u001b[39;00m\u001b[38;5;21;01mutil_functions\u001b[39;00m \u001b[38;5;28;01mimport\u001b[39;00m key_with_max_value, ordered_values\n",
      "\u001b[1;31mImportError\u001b[0m: cannot import name 'ordered_values' from 'src.utils.util_functions' (C:\\Users\\janni\\Dropbox\\projects\\2024_05 IEEE Suicide prevention\\ieee-2024-suicide-prevention\\src\\utils\\util_functions.py)"
     ]
    }
   ],
   "source": [
    "import pandas as pd\n",
    "import numpy as np\n",
    "from src import paths\n",
    "from src.read_data import DataReader\n",
    "from src.data_preprocessor import DataPreprocessor\n",
    "from src.utils.util_functions import key_with_max_value, ordered_values"
   ]
  },
  {
   "cell_type": "code",
   "execution_count": 2,
   "id": "0828838b-8bcc-4a46-96a5-6f593087e5df",
   "metadata": {},
   "outputs": [],
   "source": [
    "labelled = DataReader.get_posts_with_labels()"
   ]
  },
  {
   "cell_type": "code",
   "execution_count": 3,
   "id": "0eb8e115-f082-4e38-8bc8-c5a35dd682ef",
   "metadata": {},
   "outputs": [
    {
     "data": {
      "text/html": [
       "<div>\n",
       "<style scoped>\n",
       "    .dataframe tbody tr th:only-of-type {\n",
       "        vertical-align: middle;\n",
       "    }\n",
       "\n",
       "    .dataframe tbody tr th {\n",
       "        vertical-align: top;\n",
       "    }\n",
       "\n",
       "    .dataframe thead th {\n",
       "        text-align: right;\n",
       "    }\n",
       "</style>\n",
       "<table border=\"1\" class=\"dataframe\">\n",
       "  <thead>\n",
       "    <tr style=\"text-align: right;\">\n",
       "      <th></th>\n",
       "      <th>post</th>\n",
       "      <th>post_risk</th>\n",
       "    </tr>\n",
       "  </thead>\n",
       "  <tbody>\n",
       "    <tr>\n",
       "      <th>0</th>\n",
       "      <td>Just kill me. Please! Just end my life! I beg ...</td>\n",
       "      <td>ideation</td>\n",
       "    </tr>\n",
       "    <tr>\n",
       "      <th>1</th>\n",
       "      <td>There is no today, nor tommorrow. I dont have ...</td>\n",
       "      <td>behavior</td>\n",
       "    </tr>\n",
       "    <tr>\n",
       "      <th>2</th>\n",
       "      <td>Life so full of contradictions that it's not w...</td>\n",
       "      <td>indicator</td>\n",
       "    </tr>\n",
       "    <tr>\n",
       "      <th>3</th>\n",
       "      <td>I think I'm going to kill myself soon. I don't...</td>\n",
       "      <td>behavior</td>\n",
       "    </tr>\n",
       "    <tr>\n",
       "      <th>4</th>\n",
       "      <td>whats the point of living. no really. is there...</td>\n",
       "      <td>ideation</td>\n",
       "    </tr>\n",
       "  </tbody>\n",
       "</table>\n",
       "</div>"
      ],
      "text/plain": [
       "                                                post  post_risk\n",
       "0  Just kill me. Please! Just end my life! I beg ...   ideation\n",
       "1  There is no today, nor tommorrow. I dont have ...   behavior\n",
       "2  Life so full of contradictions that it's not w...  indicator\n",
       "3  I think I'm going to kill myself soon. I don't...   behavior\n",
       "4  whats the point of living. no really. is there...   ideation"
      ]
     },
     "execution_count": 3,
     "metadata": {},
     "output_type": "execute_result"
    }
   ],
   "source": [
    "labelled.head()"
   ]
  },
  {
   "cell_type": "code",
   "execution_count": 4,
   "id": "af3784fd-0805-4ece-be21-80813e4f38e8",
   "metadata": {},
   "outputs": [
    {
     "data": {
      "text/plain": [
       "post_risk\n",
       "ideation     190\n",
       "behavior     140\n",
       "indicator    129\n",
       "attempt       41\n",
       "Name: count, dtype: int64"
      ]
     },
     "execution_count": 4,
     "metadata": {},
     "output_type": "execute_result"
    }
   ],
   "source": [
    "labelled['post_risk'].value_counts()"
   ]
  },
  {
   "cell_type": "code",
   "execution_count": 5,
   "id": "89cbfd10-da66-45cf-95a5-99388fb2c727",
   "metadata": {},
   "outputs": [
    {
     "name": "stderr",
     "output_type": "stream",
     "text": [
      "2024-05-31 17:57:25,436 - INFO: Preprocesssing data\n",
      "2024-05-31 17:57:25,441 - INFO: Removing HTML, non ASCI etc\n",
      "2024-05-31 17:57:25,543 - INFO: Counting words\n"
     ]
    },
    {
     "data": {
      "text/html": [
       "<div>\n",
       "<style scoped>\n",
       "    .dataframe tbody tr th:only-of-type {\n",
       "        vertical-align: middle;\n",
       "    }\n",
       "\n",
       "    .dataframe tbody tr th {\n",
       "        vertical-align: top;\n",
       "    }\n",
       "\n",
       "    .dataframe thead th {\n",
       "        text-align: right;\n",
       "    }\n",
       "</style>\n",
       "<table border=\"1\" class=\"dataframe\">\n",
       "  <thead>\n",
       "    <tr style=\"text-align: right;\">\n",
       "      <th></th>\n",
       "      <th>post</th>\n",
       "      <th>post_risk</th>\n",
       "      <th>word_count</th>\n",
       "    </tr>\n",
       "  </thead>\n",
       "  <tbody>\n",
       "    <tr>\n",
       "      <th>0</th>\n",
       "      <td>Just kill me. Please! Just end my life! I beg ...</td>\n",
       "      <td>ideation</td>\n",
       "      <td>14</td>\n",
       "    </tr>\n",
       "    <tr>\n",
       "      <th>1</th>\n",
       "      <td>There is no today, nor tommorrow. I dont have ...</td>\n",
       "      <td>behavior</td>\n",
       "      <td>282</td>\n",
       "    </tr>\n",
       "    <tr>\n",
       "      <th>2</th>\n",
       "      <td>Life so full of contradictions that it's not w...</td>\n",
       "      <td>indicator</td>\n",
       "      <td>311</td>\n",
       "    </tr>\n",
       "    <tr>\n",
       "      <th>3</th>\n",
       "      <td>I think I'm going to kill myself soon. I don't...</td>\n",
       "      <td>behavior</td>\n",
       "      <td>54</td>\n",
       "    </tr>\n",
       "    <tr>\n",
       "      <th>4</th>\n",
       "      <td>whats the point of living. no really. is there...</td>\n",
       "      <td>ideation</td>\n",
       "      <td>142</td>\n",
       "    </tr>\n",
       "  </tbody>\n",
       "</table>\n",
       "</div>"
      ],
      "text/plain": [
       "                                                post  post_risk  word_count\n",
       "0  Just kill me. Please! Just end my life! I beg ...   ideation          14\n",
       "1  There is no today, nor tommorrow. I dont have ...   behavior         282\n",
       "2  Life so full of contradictions that it's not w...  indicator         311\n",
       "3  I think I'm going to kill myself soon. I don't...   behavior          54\n",
       "4  whats the point of living. no really. is there...   ideation         142"
      ]
     },
     "execution_count": 5,
     "metadata": {},
     "output_type": "execute_result"
    }
   ],
   "source": [
    "labelled = DataPreprocessor.preprocess(labelled)\n",
    "labelled.head()"
   ]
  },
  {
   "cell_type": "code",
   "execution_count": 6,
   "id": "d5962255-618d-46dd-945a-259fa5636bc5",
   "metadata": {},
   "outputs": [
    {
     "data": {
      "text/html": [
       "<div>\n",
       "<style scoped>\n",
       "    .dataframe tbody tr th:only-of-type {\n",
       "        vertical-align: middle;\n",
       "    }\n",
       "\n",
       "    .dataframe tbody tr th {\n",
       "        vertical-align: top;\n",
       "    }\n",
       "\n",
       "    .dataframe thead th {\n",
       "        text-align: right;\n",
       "    }\n",
       "</style>\n",
       "<table border=\"1\" class=\"dataframe\">\n",
       "  <thead>\n",
       "    <tr style=\"text-align: right;\">\n",
       "      <th></th>\n",
       "      <th>count</th>\n",
       "      <th>mean</th>\n",
       "      <th>std</th>\n",
       "      <th>min</th>\n",
       "      <th>25%</th>\n",
       "      <th>50%</th>\n",
       "      <th>75%</th>\n",
       "      <th>max</th>\n",
       "    </tr>\n",
       "    <tr>\n",
       "      <th>post_risk</th>\n",
       "      <th></th>\n",
       "      <th></th>\n",
       "      <th></th>\n",
       "      <th></th>\n",
       "      <th></th>\n",
       "      <th></th>\n",
       "      <th></th>\n",
       "      <th></th>\n",
       "    </tr>\n",
       "  </thead>\n",
       "  <tbody>\n",
       "    <tr>\n",
       "      <th>attempt</th>\n",
       "      <td>41.0</td>\n",
       "      <td>338.341463</td>\n",
       "      <td>427.035046</td>\n",
       "      <td>11.0</td>\n",
       "      <td>55.0</td>\n",
       "      <td>179.0</td>\n",
       "      <td>447.00</td>\n",
       "      <td>2095.0</td>\n",
       "    </tr>\n",
       "    <tr>\n",
       "      <th>behavior</th>\n",
       "      <td>140.0</td>\n",
       "      <td>177.314286</td>\n",
       "      <td>186.416841</td>\n",
       "      <td>2.0</td>\n",
       "      <td>55.0</td>\n",
       "      <td>94.0</td>\n",
       "      <td>230.25</td>\n",
       "      <td>830.0</td>\n",
       "    </tr>\n",
       "    <tr>\n",
       "      <th>ideation</th>\n",
       "      <td>190.0</td>\n",
       "      <td>161.473684</td>\n",
       "      <td>170.525415</td>\n",
       "      <td>6.0</td>\n",
       "      <td>54.0</td>\n",
       "      <td>98.5</td>\n",
       "      <td>214.00</td>\n",
       "      <td>998.0</td>\n",
       "    </tr>\n",
       "    <tr>\n",
       "      <th>indicator</th>\n",
       "      <td>129.0</td>\n",
       "      <td>135.333333</td>\n",
       "      <td>144.509047</td>\n",
       "      <td>1.0</td>\n",
       "      <td>44.0</td>\n",
       "      <td>90.0</td>\n",
       "      <td>188.00</td>\n",
       "      <td>1120.0</td>\n",
       "    </tr>\n",
       "  </tbody>\n",
       "</table>\n",
       "</div>"
      ],
      "text/plain": [
       "           count        mean         std   min   25%    50%     75%     max\n",
       "post_risk                                                                  \n",
       "attempt     41.0  338.341463  427.035046  11.0  55.0  179.0  447.00  2095.0\n",
       "behavior   140.0  177.314286  186.416841   2.0  55.0   94.0  230.25   830.0\n",
       "ideation   190.0  161.473684  170.525415   6.0  54.0   98.5  214.00   998.0\n",
       "indicator  129.0  135.333333  144.509047   1.0  44.0   90.0  188.00  1120.0"
      ]
     },
     "execution_count": 6,
     "metadata": {},
     "output_type": "execute_result"
    }
   ],
   "source": [
    "labelled.groupby('post_risk')['word_count'].describe()"
   ]
  },
  {
   "cell_type": "code",
   "execution_count": 7,
   "id": "894ad4d3-7233-476c-9059-7fe4f80b7a77",
   "metadata": {},
   "outputs": [],
   "source": [
    "file_name = \"data\"\n",
    "DataPreprocessor.to_json(labelled, f'{file_name}.jsonl')"
   ]
  },
  {
   "cell_type": "code",
   "execution_count": null,
   "id": "b04ebfd6-70f5-4143-ba39-bd7a462dc81b",
   "metadata": {},
   "outputs": [],
   "source": []
  },
  {
   "cell_type": "code",
   "execution_count": 8,
   "id": "fbc6d143-5ad8-4e0f-9341-d6097d4b321a",
   "metadata": {},
   "outputs": [
    {
     "name": "stdout",
     "output_type": "stream",
     "text": [
      "Analyzing...\n",
      "\n",
      "- Your file contains 500 prompt-completion pairs\n",
      "- Based on your data it seems like you're trying to fine-tune a model for classification\n",
      "- For classification, we recommend you try one of the faster and cheaper models, such as `ada`\n",
      "- For classification, you can estimate the expected model performance by keeping a held out dataset, which is not used for training\n",
      "- There are 1 examples that are very long. These are rows: [481]\n",
      "For conditional generation, and for classification the examples shouldn't be longer than 2048 tokens.\n",
      "- Your data does not contain a common separator at the end of your prompts. Having a separator string appended to the end of the prompt makes it clearer to the fine-tuned model where the completion should begin. See https://platform.openai.com/docs/guides/fine-tuning/preparing-your-dataset for more detail and examples. If you intend to do open-ended generation, then you should leave the prompts empty\n",
      "- The completion should start with a whitespace character (` `). This tends to produce better results due to the tokenization we use. See https://platform.openai.com/docs/guides/fine-tuning/preparing-your-dataset for more details\n",
      "\n",
      "Based on the analysis we will perform the following actions:\n",
      "- [Recommended] Remove 1 long examples [Y/n]: Y\n",
      "- [Recommended] Add a suffix separator ` ->` to all prompts [Y/n]: Y\n",
      "- [Recommended] Add a whitespace character to the beginning of the completion [Y/n]: Y\n",
      "- [Recommended] Would you like to split into training and validation set? [Y/n]: Y\n",
      "\n",
      "\n",
      "Your data will be written to a new JSONL file. Proceed [Y/n]: Y\n",
      "\n",
      "Wrote modified files to `data_prepared_train (1).jsonl` and `data_prepared_valid (1).jsonl`\n",
      "Feel free to take a look!\n",
      "\n",
      "Now use that file when fine-tuning:\n",
      "> openai api fine_tunes.create -t \"data_prepared_train (1).jsonl\" -v \"data_prepared_valid (1).jsonl\" --compute_classification_metrics --classification_n_classes 4\n",
      "\n",
      "After you’ve fine-tuned a model, remember that your prompt has to end with the indicator string ` ->` for the model to start generating completions, rather than continuing with the prompt.\n",
      "Once your model starts training, it'll approximately take 14.31 minutes to train a `curie` model, and less for `ada` and `babbage`. Queue will approximately take half an hour per job ahead of you.\n"
     ]
    }
   ],
   "source": [
    "!openai tools fine_tunes.prepare_data -f data.jsonl -q"
   ]
  },
  {
   "cell_type": "code",
   "execution_count": 11,
   "id": "053ef006-b92f-48d3-96d6-e8c6e4feb7f6",
   "metadata": {},
   "outputs": [
    {
     "name": "stdout",
     "output_type": "stream",
     "text": [
      "FineTuningJob(id='ftjob-26SCSYKJlwPoNupKn5QvasUA', created_at=1717176751, error=Error(code=None, message=None, param=None), fine_tuned_model=None, finished_at=None, hyperparameters=Hyperparameters(n_epochs='auto', batch_size='auto', learning_rate_multiplier='auto'), model='babbage-002', object='fine_tuning.job', organization_id='org-FM8nE4u0PEcj6crKCzO0dFT7', result_files=[], seed=1861505804, status='validating_files', trained_tokens=None, training_file='file-TUqg9LrTCqCIZqRg6fMCrBrX', validation_file='file-EGKmilIo2fKHALFsg7UGFRoE', estimated_finish=None, integrations=[], user_provided_suffix=None)\n"
     ]
    }
   ],
   "source": [
    "from src.open_ai import client\n",
    "train_file = client.files.create(file=open(f\"{file_name}_prepared_train.jsonl\", \"rb\"), purpose=\"fine-tune\")\n",
    "valid_file = client.files.create(file=open(f\"{file_name}_prepared_valid.jsonl\", \"rb\"), purpose=\"fine-tune\")\n",
    "\n",
    "fine_tuning_job = client.fine_tuning.jobs.create(training_file=train_file.id, validation_file=valid_file.id, model=\"babbage-002\")\n",
    "\n",
    "print(fine_tuning_job)"
   ]
  },
  {
   "cell_type": "code",
   "execution_count": 15,
   "id": "b07fd111-aac8-4c2a-983d-2104489db6c0",
   "metadata": {},
   "outputs": [
    {
     "name": "stdout",
     "output_type": "stream",
     "text": [
      "FineTuningJob(id='ftjob-26SCSYKJlwPoNupKn5QvasUA', created_at=1717176751, error=Error(code=None, message=None, param=None), fine_tuned_model=None, finished_at=None, hyperparameters=Hyperparameters(n_epochs='auto', batch_size='auto', learning_rate_multiplier='auto'), model='babbage-002', object='fine_tuning.job', organization_id='org-FM8nE4u0PEcj6crKCzO0dFT7', result_files=[], seed=1861505804, status='validating_files', trained_tokens=None, training_file='file-TUqg9LrTCqCIZqRg6fMCrBrX', validation_file='file-EGKmilIo2fKHALFsg7UGFRoE', estimated_finish=None, integrations=[], user_provided_suffix=None)\n"
     ]
    }
   ],
   "source": [
    "print(fine_tuning_job)"
   ]
  },
  {
   "cell_type": "code",
   "execution_count": null,
   "id": "8bed038f-d73c-4dc6-9b87-ca8e62836f2a",
   "metadata": {},
   "outputs": [],
   "source": []
  },
  {
   "cell_type": "code",
   "execution_count": 18,
   "id": "6e50978f-f991-4ad1-824c-3f4c54eecf59",
   "metadata": {},
   "outputs": [
    {
     "data": {
      "text/html": [
       "<div>\n",
       "<style scoped>\n",
       "    .dataframe tbody tr th:only-of-type {\n",
       "        vertical-align: middle;\n",
       "    }\n",
       "\n",
       "    .dataframe tbody tr th {\n",
       "        vertical-align: top;\n",
       "    }\n",
       "\n",
       "    .dataframe thead th {\n",
       "        text-align: right;\n",
       "    }\n",
       "</style>\n",
       "<table border=\"1\" class=\"dataframe\">\n",
       "  <thead>\n",
       "    <tr style=\"text-align: right;\">\n",
       "      <th></th>\n",
       "      <th>post</th>\n",
       "    </tr>\n",
       "  </thead>\n",
       "  <tbody>\n",
       "    <tr>\n",
       "      <th>0</th>\n",
       "      <td>My mind is hell. After my breakup 6 months ago...</td>\n",
       "    </tr>\n",
       "    <tr>\n",
       "      <th>1</th>\n",
       "      <td>What's the point?. It's been 548 days since my...</td>\n",
       "    </tr>\n",
       "    <tr>\n",
       "      <th>2</th>\n",
       "      <td>I'm scared therapy wont work. My parents reali...</td>\n",
       "    </tr>\n",
       "    <tr>\n",
       "      <th>3</th>\n",
       "      <td>so bye. love you bitches. only a few hours lef...</td>\n",
       "    </tr>\n",
       "    <tr>\n",
       "      <th>4</th>\n",
       "      <td>Relapsed after 6 months. I don't think I'll ev...</td>\n",
       "    </tr>\n",
       "  </tbody>\n",
       "</table>\n",
       "</div>"
      ],
      "text/plain": [
       "                                                post\n",
       "0  My mind is hell. After my breakup 6 months ago...\n",
       "1  What's the point?. It's been 548 days since my...\n",
       "2  I'm scared therapy wont work. My parents reali...\n",
       "3  so bye. love you bitches. only a few hours lef...\n",
       "4  Relapsed after 6 months. I don't think I'll ev..."
      ]
     },
     "execution_count": 18,
     "metadata": {},
     "output_type": "execute_result"
    }
   ],
   "source": [
    "test = DataReader.get_test_set()\n",
    "test.head()"
   ]
  },
  {
   "cell_type": "code",
   "execution_count": 114,
   "id": "f403ac5b-50ff-40bb-b86c-1d895f03b5dd",
   "metadata": {},
   "outputs": [
    {
     "data": {
      "text/plain": [
       "'ftjob-26SCSYKJlwPoNupKn5QvasUA'"
      ]
     },
     "execution_count": 114,
     "metadata": {},
     "output_type": "execute_result"
    }
   ],
   "source": [
    "fine_tuning_job.id"
   ]
  },
  {
   "cell_type": "code",
   "execution_count": 28,
   "id": "480cfd3f-9632-4497-ba4e-c5f94b8581bb",
   "metadata": {},
   "outputs": [
    {
     "name": "stdout",
     "output_type": "stream",
     "text": [
      "1717177168\n"
     ]
    }
   ],
   "source": [
    "# last job id 'ftjob-26SCSYKJlwPoNupKn5QvasUA'.\n",
    "fine_tune_results = client.fine_tuning.jobs.retrieve(fine_tuning_job.id)\n",
    "print(fine_tune_results.finished_at)"
   ]
  },
  {
   "cell_type": "code",
   "execution_count": 54,
   "id": "d037bb26-375e-4028-bd1e-2d6c25533220",
   "metadata": {},
   "outputs": [],
   "source": [
    "ft_model = fine_tune_results.fine_tuned_model\n",
    "\n",
    "# note that this calls the legacy completions api - https://platform.openai.com/docs/api-reference/completions\n",
    "res = client.completions.create(model=ft_model, prompt=test['post'][15] + ' ->', max_tokens=1, temperature=0,logprobs=10)"
   ]
  },
  {
   "cell_type": "code",
   "execution_count": 78,
   "id": "e3c15383-2be8-4a52-a368-dad8ffac53ca",
   "metadata": {},
   "outputs": [],
   "source": [
    "result = [client.completions.create(model=ft_model, prompt=ex + ' ->', max_tokens=1, temperature=0,logprobs=10) for ex in test['post']]"
   ]
  },
  {
   "cell_type": "code",
   "execution_count": 62,
   "id": "dedca47f-f553-4706-b777-0d7a320cba53",
   "metadata": {},
   "outputs": [
    {
     "data": {
      "text/plain": [
       "[' behavior']"
      ]
     },
     "execution_count": 62,
     "metadata": {},
     "output_type": "execute_result"
    }
   ],
   "source": [
    "res.choices[0].logprobs.tokens"
   ]
  },
  {
   "cell_type": "code",
   "execution_count": 97,
   "id": "7efe1921-251d-43f6-aa6b-975d84854786",
   "metadata": {},
   "outputs": [],
   "source": [
    "def unpack(response):\n",
    "    log_probs = response.choices[0].logprobs.top_logprobs[0]\n",
    "    prob ={k: np.exp(log_p)/np.sum(np.exp(list(log_probs.values()))) for k, log_p in log_probs.items()}\n",
    "    out = {'ideation': 0, 'behavior': 0, 'indicator':0, 'attempt': 0}\n",
    "    for token, p in prob.items():\n",
    "        if token.startswith(\" be\"):\n",
    "            out['behavior'] = out['behavior']+ prob[token]\n",
    "        elif token.startswith((\" id\", \"at\")):\n",
    "            out['ideation'] = out['ideation']+ prob[token]\n",
    "        elif token.startswith(\" at\"):\n",
    "            out['attempt'] = out['attempt']+ prob[token]\n",
    "        elif token.startswith(\" in\"):\n",
    "            out['indicator'] = out['indicator']+ prob[token]\n",
    "    return out"
   ]
  },
  {
   "cell_type": "code",
   "execution_count": 98,
   "id": "5a45587e-9734-45b3-bfc0-43e56fc2dcd0",
   "metadata": {},
   "outputs": [],
   "source": [
    "probs = [unpack(res) for res in result]"
   ]
  },
  {
   "cell_type": "code",
   "execution_count": 99,
   "id": "a240a5ac-b4b4-4237-a763-ea8ba38db4e9",
   "metadata": {},
   "outputs": [
    {
     "data": {
      "text/plain": [
       "[{'ideation': 0.41600144062232575,\n",
       "  'behavior': 0.35565867271386614,\n",
       "  'indicator': 0.20832621373504148,\n",
       "  'attempt': 0.02001367292876656},\n",
       " {'ideation': 0.49733861727356055,\n",
       "  'behavior': 0.3016117459746736,\n",
       "  'indicator': 0.18352530885777973,\n",
       "  'attempt': 0.017524327893986006}]"
      ]
     },
     "execution_count": 99,
     "metadata": {},
     "output_type": "execute_result"
    }
   ],
   "source": [
    "probs[:2]"
   ]
  },
  {
   "cell_type": "code",
   "execution_count": 108,
   "id": "4ac04376-054a-43c1-aeca-c0bdbe088c8c",
   "metadata": {},
   "outputs": [
    {
     "data": {
      "text/html": [
       "<div>\n",
       "<style scoped>\n",
       "    .dataframe tbody tr th:only-of-type {\n",
       "        vertical-align: middle;\n",
       "    }\n",
       "\n",
       "    .dataframe tbody tr th {\n",
       "        vertical-align: top;\n",
       "    }\n",
       "\n",
       "    .dataframe thead th {\n",
       "        text-align: right;\n",
       "    }\n",
       "</style>\n",
       "<table border=\"1\" class=\"dataframe\">\n",
       "  <thead>\n",
       "    <tr style=\"text-align: right;\">\n",
       "      <th></th>\n",
       "      <th>post</th>\n",
       "      <th>suicide risk</th>\n",
       "      <th>probability distribition</th>\n",
       "      <th>probability distribution</th>\n",
       "    </tr>\n",
       "  </thead>\n",
       "  <tbody>\n",
       "    <tr>\n",
       "      <th>0</th>\n",
       "      <td>My mind is hell. After my breakup 6 months ago...</td>\n",
       "      <td>ideation</td>\n",
       "      <td>[0.20833, 0.416, 0.35566, 0.02001]</td>\n",
       "      <td>[0.20833, 0.416, 0.35566, 0.02001]</td>\n",
       "    </tr>\n",
       "    <tr>\n",
       "      <th>1</th>\n",
       "      <td>What's the point?. It's been 548 days since my...</td>\n",
       "      <td>ideation</td>\n",
       "      <td>[0.18353, 0.49734, 0.30161, 0.01752]</td>\n",
       "      <td>[0.18353, 0.49734, 0.30161, 0.01752]</td>\n",
       "    </tr>\n",
       "    <tr>\n",
       "      <th>2</th>\n",
       "      <td>I'm scared therapy wont work. My parents reali...</td>\n",
       "      <td>ideation</td>\n",
       "      <td>[0.16726, 0.53765, 0.27948, 0.0156]</td>\n",
       "      <td>[0.16726, 0.53765, 0.27948, 0.0156]</td>\n",
       "    </tr>\n",
       "    <tr>\n",
       "      <th>3</th>\n",
       "      <td>so bye. love you bitches. only a few hours lef...</td>\n",
       "      <td>behavior</td>\n",
       "      <td>[0.32152, 0.20119, 0.45864, 0.01864]</td>\n",
       "      <td>[0.32152, 0.20119, 0.45864, 0.01864]</td>\n",
       "    </tr>\n",
       "    <tr>\n",
       "      <th>4</th>\n",
       "      <td>Relapsed after 6 months. I don't think I'll ev...</td>\n",
       "      <td>ideation</td>\n",
       "      <td>[0.18313, 0.47322, 0.32552, 0.01813]</td>\n",
       "      <td>[0.18313, 0.47322, 0.32552, 0.01813]</td>\n",
       "    </tr>\n",
       "    <tr>\n",
       "      <th>...</th>\n",
       "      <td>...</td>\n",
       "      <td>...</td>\n",
       "      <td>...</td>\n",
       "      <td>...</td>\n",
       "    </tr>\n",
       "    <tr>\n",
       "      <th>95</th>\n",
       "      <td>\"Help me die. Hello, I'm sorry, I'm going to t...</td>\n",
       "      <td>ideation</td>\n",
       "      <td>[0.18425, 0.47515, 0.325, 0.01559]</td>\n",
       "      <td>[0.18425, 0.47515, 0.325, 0.01559]</td>\n",
       "    </tr>\n",
       "    <tr>\n",
       "      <th>96</th>\n",
       "      <td>I'm still here, but I had enough of this. Hey ...</td>\n",
       "      <td>ideation</td>\n",
       "      <td>[0.12563, 0.6057, 0.2529, 0.01577]</td>\n",
       "      <td>[0.12563, 0.6057, 0.2529, 0.01577]</td>\n",
       "    </tr>\n",
       "    <tr>\n",
       "      <th>97</th>\n",
       "      <td>having a little bit of money helps but i'm sti...</td>\n",
       "      <td>ideation</td>\n",
       "      <td>[0.17787, 0.47053, 0.33485, 0.01675]</td>\n",
       "      <td>[0.17787, 0.47053, 0.33485, 0.01675]</td>\n",
       "    </tr>\n",
       "    <tr>\n",
       "      <th>98</th>\n",
       "      <td>I need therapy more than anything else but I h...</td>\n",
       "      <td>ideation</td>\n",
       "      <td>[0.02243, 0.90336, 0.06846, 0.00575]</td>\n",
       "      <td>[0.02243, 0.90336, 0.06846, 0.00575]</td>\n",
       "    </tr>\n",
       "    <tr>\n",
       "      <th>99</th>\n",
       "      <td>depression ruined a great life. ive got a good...</td>\n",
       "      <td>indicator</td>\n",
       "      <td>[0.5108, 0.02045, 0.43646, 0.03229]</td>\n",
       "      <td>[0.5108, 0.02045, 0.43646, 0.03229]</td>\n",
       "    </tr>\n",
       "  </tbody>\n",
       "</table>\n",
       "<p>100 rows × 4 columns</p>\n",
       "</div>"
      ],
      "text/plain": [
       "                                                 post suicide risk  \\\n",
       "0   My mind is hell. After my breakup 6 months ago...     ideation   \n",
       "1   What's the point?. It's been 548 days since my...     ideation   \n",
       "2   I'm scared therapy wont work. My parents reali...     ideation   \n",
       "3   so bye. love you bitches. only a few hours lef...     behavior   \n",
       "4   Relapsed after 6 months. I don't think I'll ev...     ideation   \n",
       "..                                                ...          ...   \n",
       "95  \"Help me die. Hello, I'm sorry, I'm going to t...     ideation   \n",
       "96  I'm still here, but I had enough of this. Hey ...     ideation   \n",
       "97  having a little bit of money helps but i'm sti...     ideation   \n",
       "98  I need therapy more than anything else but I h...     ideation   \n",
       "99  depression ruined a great life. ive got a good...    indicator   \n",
       "\n",
       "                probability distribition              probability distribution  \n",
       "0     [0.20833, 0.416, 0.35566, 0.02001]    [0.20833, 0.416, 0.35566, 0.02001]  \n",
       "1   [0.18353, 0.49734, 0.30161, 0.01752]  [0.18353, 0.49734, 0.30161, 0.01752]  \n",
       "2    [0.16726, 0.53765, 0.27948, 0.0156]   [0.16726, 0.53765, 0.27948, 0.0156]  \n",
       "3   [0.32152, 0.20119, 0.45864, 0.01864]  [0.32152, 0.20119, 0.45864, 0.01864]  \n",
       "4   [0.18313, 0.47322, 0.32552, 0.01813]  [0.18313, 0.47322, 0.32552, 0.01813]  \n",
       "..                                   ...                                   ...  \n",
       "95    [0.18425, 0.47515, 0.325, 0.01559]    [0.18425, 0.47515, 0.325, 0.01559]  \n",
       "96    [0.12563, 0.6057, 0.2529, 0.01577]    [0.12563, 0.6057, 0.2529, 0.01577]  \n",
       "97  [0.17787, 0.47053, 0.33485, 0.01675]  [0.17787, 0.47053, 0.33485, 0.01675]  \n",
       "98  [0.02243, 0.90336, 0.06846, 0.00575]  [0.02243, 0.90336, 0.06846, 0.00575]  \n",
       "99   [0.5108, 0.02045, 0.43646, 0.03229]   [0.5108, 0.02045, 0.43646, 0.03229]  \n",
       "\n",
       "[100 rows x 4 columns]"
      ]
     },
     "execution_count": 108,
     "metadata": {},
     "output_type": "execute_result"
    }
   ],
   "source": [
    "test['suicide risk'] = [key_with_max_value(elem) for elem in probs]\n",
    "test['probability distribution'] = [ordered_values(elem) for elem in probs]\n",
    "test"
   ]
  },
  {
   "cell_type": "code",
   "execution_count": 113,
   "id": "3d920117-ee92-4fd5-8511-566bcf6da711",
   "metadata": {},
   "outputs": [],
   "source": [
    "test[['suicide risk', 'probability distribution']].to_excel(\"Calculators.xlsx\", index=True, index_label=\"index\")"
   ]
  },
  {
   "cell_type": "code",
   "execution_count": null,
   "id": "3b203615-4338-4708-818b-b025bdc6cc02",
   "metadata": {},
   "outputs": [],
   "source": []
  },
  {
   "cell_type": "code",
   "execution_count": null,
   "id": "103aae4e-6fda-4397-b980-9e9a599a4b0b",
   "metadata": {},
   "outputs": [],
   "source": []
  },
  {
   "cell_type": "code",
   "execution_count": 105,
   "id": "1baaaf7a-5dc9-4019-a18b-aa0dfe43ccc3",
   "metadata": {},
   "outputs": [],
   "source": []
  },
  {
   "cell_type": "code",
   "execution_count": null,
   "id": "99c36b7f-5984-4478-9d61-fee005465630",
   "metadata": {},
   "outputs": [],
   "source": []
  }
 ],
 "metadata": {
  "kernelspec": {
   "display_name": "Python 3 (ipykernel)",
   "language": "python",
   "name": "python3"
  },
  "language_info": {
   "codemirror_mode": {
    "name": "ipython",
    "version": 3
   },
   "file_extension": ".py",
   "mimetype": "text/x-python",
   "name": "python",
   "nbconvert_exporter": "python",
   "pygments_lexer": "ipython3",
   "version": "3.10.2"
  }
 },
 "nbformat": 4,
 "nbformat_minor": 5
}
